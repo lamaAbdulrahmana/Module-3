{
 "cells": [
  {
   "attachments": {},
   "cell_type": "markdown",
   "metadata": {},
   "source": [
    "# Ad Clicking Prediction using Logistic Regression \n",
    "# ________________________________________________________________________________________________________________________________"
   ]
  },
  {
   "attachments": {},
   "cell_type": "markdown",
   "metadata": {},
   "source": [
    "## Table of contents\n",
    "1. [Description](#description)<br>\n",
    "2. [Set Up](#set-up)<br>\n",
    "3. [Data Import](#data-import)<br>\n",
    "4. [Data Processing](#data-processing)<br>\n",
    "5. [Logistic Regression](#linear-regression-model)<br>\n",
    "6. [Model Evaluation](#model-evaluation)<br>\n",
    "7. [Conclusion](#conclusion)<br>"
   ]
  },
  {
   "attachments": {},
   "cell_type": "markdown",
   "metadata": {},
   "source": [
    "## Description\n",
    "#### A quick summary of the notebook"
   ]
  },
  {
   "attachments": {},
   "cell_type": "markdown",
   "metadata": {},
   "source": [
    "This project aim to know whether a user will click on a specific add or not depending upon provided data of the user. Use logistic regression model for model building and confusion matrix for model evaluation. we aim to reach an accuracy +80%"
   ]
  },
  {
   "attachments": {},
   "cell_type": "markdown",
   "metadata": {},
   "source": [
    "## Set Up\n",
    "#### Package and local module imports"
   ]
  },
  {
   "cell_type": "code",
   "execution_count": 1,
   "metadata": {},
   "outputs": [],
   "source": [
    "import pandas as pd\n",
    "import numpy as np\n",
    "from matplotlib import pyplot as plt\n",
    "import seaborn as sns"
   ]
  },
  {
   "attachments": {},
   "cell_type": "markdown",
   "metadata": {},
   "source": [
    "## Data Import"
   ]
  },
  {
   "cell_type": "code",
   "execution_count": 2,
   "metadata": {},
   "outputs": [],
   "source": [
    "df = pd.read_csv('advertising.csv') # Load the data"
   ]
  },
  {
   "cell_type": "code",
   "execution_count": 3,
   "metadata": {},
   "outputs": [
    {
     "data": {
      "text/html": [
       "<div>\n",
       "<style scoped>\n",
       "    .dataframe tbody tr th:only-of-type {\n",
       "        vertical-align: middle;\n",
       "    }\n",
       "\n",
       "    .dataframe tbody tr th {\n",
       "        vertical-align: top;\n",
       "    }\n",
       "\n",
       "    .dataframe thead th {\n",
       "        text-align: right;\n",
       "    }\n",
       "</style>\n",
       "<table border=\"1\" class=\"dataframe\">\n",
       "  <thead>\n",
       "    <tr style=\"text-align: right;\">\n",
       "      <th></th>\n",
       "      <th>Daily Time Spent on Site</th>\n",
       "      <th>Age</th>\n",
       "      <th>Area Income</th>\n",
       "      <th>Daily Internet Usage</th>\n",
       "      <th>Ad Topic Line</th>\n",
       "      <th>City</th>\n",
       "      <th>Male</th>\n",
       "      <th>Country</th>\n",
       "      <th>Timestamp</th>\n",
       "      <th>Clicked on Ad</th>\n",
       "    </tr>\n",
       "  </thead>\n",
       "  <tbody>\n",
       "    <tr>\n",
       "      <th>745</th>\n",
       "      <td>57.99</td>\n",
       "      <td>50</td>\n",
       "      <td>62466.10</td>\n",
       "      <td>124.58</td>\n",
       "      <td>Innovative homogeneous alliance</td>\n",
       "      <td>New Angelview</td>\n",
       "      <td>0</td>\n",
       "      <td>Costa Rica</td>\n",
       "      <td>2016-02-12 08:46:15</td>\n",
       "      <td>1</td>\n",
       "    </tr>\n",
       "    <tr>\n",
       "      <th>88</th>\n",
       "      <td>57.70</td>\n",
       "      <td>34</td>\n",
       "      <td>42696.67</td>\n",
       "      <td>109.07</td>\n",
       "      <td>Phased dynamic customer loyalty</td>\n",
       "      <td>New Tina</td>\n",
       "      <td>0</td>\n",
       "      <td>Australia</td>\n",
       "      <td>2016-03-14 23:13:11</td>\n",
       "      <td>1</td>\n",
       "    </tr>\n",
       "    <tr>\n",
       "      <th>462</th>\n",
       "      <td>74.88</td>\n",
       "      <td>27</td>\n",
       "      <td>67240.25</td>\n",
       "      <td>175.17</td>\n",
       "      <td>Organized empowering policy</td>\n",
       "      <td>Sarahton</td>\n",
       "      <td>1</td>\n",
       "      <td>Sudan</td>\n",
       "      <td>2016-04-17 06:58:18</td>\n",
       "      <td>0</td>\n",
       "    </tr>\n",
       "    <tr>\n",
       "      <th>954</th>\n",
       "      <td>51.65</td>\n",
       "      <td>31</td>\n",
       "      <td>58996.56</td>\n",
       "      <td>249.99</td>\n",
       "      <td>Virtual context-sensitive support</td>\n",
       "      <td>Mclaughlinbury</td>\n",
       "      <td>0</td>\n",
       "      <td>Ireland</td>\n",
       "      <td>2016-05-25 10:39:28</td>\n",
       "      <td>0</td>\n",
       "    </tr>\n",
       "    <tr>\n",
       "      <th>804</th>\n",
       "      <td>53.92</td>\n",
       "      <td>41</td>\n",
       "      <td>25739.09</td>\n",
       "      <td>125.46</td>\n",
       "      <td>Business-focused transitional solution</td>\n",
       "      <td>Lake Amanda</td>\n",
       "      <td>1</td>\n",
       "      <td>Turkey</td>\n",
       "      <td>2016-06-12 11:17:25</td>\n",
       "      <td>1</td>\n",
       "    </tr>\n",
       "    <tr>\n",
       "      <th>532</th>\n",
       "      <td>79.53</td>\n",
       "      <td>51</td>\n",
       "      <td>46132.18</td>\n",
       "      <td>244.91</td>\n",
       "      <td>Managed 6thgeneration hierarchy</td>\n",
       "      <td>Reyesfurt</td>\n",
       "      <td>0</td>\n",
       "      <td>Barbados</td>\n",
       "      <td>2016-06-26 04:22:26</td>\n",
       "      <td>0</td>\n",
       "    </tr>\n",
       "    <tr>\n",
       "      <th>126</th>\n",
       "      <td>80.31</td>\n",
       "      <td>44</td>\n",
       "      <td>56366.88</td>\n",
       "      <td>127.07</td>\n",
       "      <td>Cross-platform regional task-force</td>\n",
       "      <td>Brianfurt</td>\n",
       "      <td>0</td>\n",
       "      <td>Hungary</td>\n",
       "      <td>2016-04-18 15:54:33</td>\n",
       "      <td>1</td>\n",
       "    </tr>\n",
       "    <tr>\n",
       "      <th>453</th>\n",
       "      <td>83.42</td>\n",
       "      <td>25</td>\n",
       "      <td>49850.52</td>\n",
       "      <td>183.42</td>\n",
       "      <td>Advanced heuristic firmware</td>\n",
       "      <td>East Toddfort</td>\n",
       "      <td>1</td>\n",
       "      <td>Austria</td>\n",
       "      <td>2016-03-04 14:10:12</td>\n",
       "      <td>0</td>\n",
       "    </tr>\n",
       "    <tr>\n",
       "      <th>534</th>\n",
       "      <td>73.57</td>\n",
       "      <td>30</td>\n",
       "      <td>70377.23</td>\n",
       "      <td>212.38</td>\n",
       "      <td>Pre-emptive transitional protocol</td>\n",
       "      <td>North Stephanieberg</td>\n",
       "      <td>0</td>\n",
       "      <td>Uruguay</td>\n",
       "      <td>2016-03-20 08:22:50</td>\n",
       "      <td>0</td>\n",
       "    </tr>\n",
       "    <tr>\n",
       "      <th>949</th>\n",
       "      <td>78.96</td>\n",
       "      <td>50</td>\n",
       "      <td>69868.48</td>\n",
       "      <td>193.15</td>\n",
       "      <td>Stand-alone well-modulated product</td>\n",
       "      <td>East Jason</td>\n",
       "      <td>0</td>\n",
       "      <td>Cayman Islands</td>\n",
       "      <td>2016-02-12 01:55:38</td>\n",
       "      <td>1</td>\n",
       "    </tr>\n",
       "  </tbody>\n",
       "</table>\n",
       "</div>"
      ],
      "text/plain": [
       "     Daily Time Spent on Site  Age  Area Income  Daily Internet Usage  \\\n",
       "745                     57.99   50     62466.10                124.58   \n",
       "88                      57.70   34     42696.67                109.07   \n",
       "462                     74.88   27     67240.25                175.17   \n",
       "954                     51.65   31     58996.56                249.99   \n",
       "804                     53.92   41     25739.09                125.46   \n",
       "532                     79.53   51     46132.18                244.91   \n",
       "126                     80.31   44     56366.88                127.07   \n",
       "453                     83.42   25     49850.52                183.42   \n",
       "534                     73.57   30     70377.23                212.38   \n",
       "949                     78.96   50     69868.48                193.15   \n",
       "\n",
       "                              Ad Topic Line                 City  Male  \\\n",
       "745         Innovative homogeneous alliance        New Angelview     0   \n",
       "88          Phased dynamic customer loyalty             New Tina     0   \n",
       "462             Organized empowering policy             Sarahton     1   \n",
       "954       Virtual context-sensitive support       Mclaughlinbury     0   \n",
       "804  Business-focused transitional solution          Lake Amanda     1   \n",
       "532         Managed 6thgeneration hierarchy            Reyesfurt     0   \n",
       "126      Cross-platform regional task-force            Brianfurt     0   \n",
       "453             Advanced heuristic firmware        East Toddfort     1   \n",
       "534       Pre-emptive transitional protocol  North Stephanieberg     0   \n",
       "949      Stand-alone well-modulated product           East Jason     0   \n",
       "\n",
       "            Country            Timestamp  Clicked on Ad  \n",
       "745      Costa Rica  2016-02-12 08:46:15              1  \n",
       "88        Australia  2016-03-14 23:13:11              1  \n",
       "462           Sudan  2016-04-17 06:58:18              0  \n",
       "954         Ireland  2016-05-25 10:39:28              0  \n",
       "804          Turkey  2016-06-12 11:17:25              1  \n",
       "532        Barbados  2016-06-26 04:22:26              0  \n",
       "126         Hungary  2016-04-18 15:54:33              1  \n",
       "453         Austria  2016-03-04 14:10:12              0  \n",
       "534         Uruguay  2016-03-20 08:22:50              0  \n",
       "949  Cayman Islands  2016-02-12 01:55:38              1  "
      ]
     },
     "execution_count": 3,
     "metadata": {},
     "output_type": "execute_result"
    }
   ],
   "source": [
    "df.sample(10) # View sample from the data"
   ]
  },
  {
   "attachments": {},
   "cell_type": "markdown",
   "metadata": {},
   "source": [
    "## Data Processing"
   ]
  },
  {
   "cell_type": "code",
   "execution_count": 4,
   "metadata": {},
   "outputs": [
    {
     "data": {
      "text/plain": [
       "(1000, 10)"
      ]
     },
     "execution_count": 4,
     "metadata": {},
     "output_type": "execute_result"
    }
   ],
   "source": [
    "df.shape "
   ]
  },
  {
   "attachments": {},
   "cell_type": "markdown",
   "metadata": {},
   "source": [
    "The data have 1000 rows and 10 columns. "
   ]
  },
  {
   "cell_type": "code",
   "execution_count": 5,
   "metadata": {},
   "outputs": [
    {
     "name": "stdout",
     "output_type": "stream",
     "text": [
      "<class 'pandas.core.frame.DataFrame'>\n",
      "RangeIndex: 1000 entries, 0 to 999\n",
      "Data columns (total 10 columns):\n",
      " #   Column                    Non-Null Count  Dtype  \n",
      "---  ------                    --------------  -----  \n",
      " 0   Daily Time Spent on Site  1000 non-null   float64\n",
      " 1   Age                       1000 non-null   int64  \n",
      " 2   Area Income               1000 non-null   float64\n",
      " 3   Daily Internet Usage      1000 non-null   float64\n",
      " 4   Ad Topic Line             1000 non-null   object \n",
      " 5   City                      1000 non-null   object \n",
      " 6   Male                      1000 non-null   int64  \n",
      " 7   Country                   1000 non-null   object \n",
      " 8   Timestamp                 1000 non-null   object \n",
      " 9   Clicked on Ad             1000 non-null   int64  \n",
      "dtypes: float64(3), int64(3), object(4)\n",
      "memory usage: 78.2+ KB\n"
     ]
    }
   ],
   "source": [
    "df.info() # View basic info on the dataset"
   ]
  },
  {
   "cell_type": "code",
   "execution_count": 6,
   "metadata": {},
   "outputs": [
    {
     "data": {
      "text/html": [
       "<div>\n",
       "<style scoped>\n",
       "    .dataframe tbody tr th:only-of-type {\n",
       "        vertical-align: middle;\n",
       "    }\n",
       "\n",
       "    .dataframe tbody tr th {\n",
       "        vertical-align: top;\n",
       "    }\n",
       "\n",
       "    .dataframe thead th {\n",
       "        text-align: right;\n",
       "    }\n",
       "</style>\n",
       "<table border=\"1\" class=\"dataframe\">\n",
       "  <thead>\n",
       "    <tr style=\"text-align: right;\">\n",
       "      <th></th>\n",
       "      <th>Daily Time Spent on Site</th>\n",
       "      <th>Age</th>\n",
       "      <th>Area Income</th>\n",
       "      <th>Daily Internet Usage</th>\n",
       "      <th>Male</th>\n",
       "      <th>Clicked on Ad</th>\n",
       "    </tr>\n",
       "  </thead>\n",
       "  <tbody>\n",
       "    <tr>\n",
       "      <th>count</th>\n",
       "      <td>1000.000000</td>\n",
       "      <td>1000.000000</td>\n",
       "      <td>1000.000000</td>\n",
       "      <td>1000.000000</td>\n",
       "      <td>1000.000000</td>\n",
       "      <td>1000.00000</td>\n",
       "    </tr>\n",
       "    <tr>\n",
       "      <th>mean</th>\n",
       "      <td>65.000200</td>\n",
       "      <td>36.009000</td>\n",
       "      <td>55000.000080</td>\n",
       "      <td>180.000100</td>\n",
       "      <td>0.481000</td>\n",
       "      <td>0.50000</td>\n",
       "    </tr>\n",
       "    <tr>\n",
       "      <th>std</th>\n",
       "      <td>15.853615</td>\n",
       "      <td>8.785562</td>\n",
       "      <td>13414.634022</td>\n",
       "      <td>43.902339</td>\n",
       "      <td>0.499889</td>\n",
       "      <td>0.50025</td>\n",
       "    </tr>\n",
       "    <tr>\n",
       "      <th>min</th>\n",
       "      <td>32.600000</td>\n",
       "      <td>19.000000</td>\n",
       "      <td>13996.500000</td>\n",
       "      <td>104.780000</td>\n",
       "      <td>0.000000</td>\n",
       "      <td>0.00000</td>\n",
       "    </tr>\n",
       "    <tr>\n",
       "      <th>25%</th>\n",
       "      <td>51.360000</td>\n",
       "      <td>29.000000</td>\n",
       "      <td>47031.802500</td>\n",
       "      <td>138.830000</td>\n",
       "      <td>0.000000</td>\n",
       "      <td>0.00000</td>\n",
       "    </tr>\n",
       "    <tr>\n",
       "      <th>50%</th>\n",
       "      <td>68.215000</td>\n",
       "      <td>35.000000</td>\n",
       "      <td>57012.300000</td>\n",
       "      <td>183.130000</td>\n",
       "      <td>0.000000</td>\n",
       "      <td>0.50000</td>\n",
       "    </tr>\n",
       "    <tr>\n",
       "      <th>75%</th>\n",
       "      <td>78.547500</td>\n",
       "      <td>42.000000</td>\n",
       "      <td>65470.635000</td>\n",
       "      <td>218.792500</td>\n",
       "      <td>1.000000</td>\n",
       "      <td>1.00000</td>\n",
       "    </tr>\n",
       "    <tr>\n",
       "      <th>max</th>\n",
       "      <td>91.430000</td>\n",
       "      <td>61.000000</td>\n",
       "      <td>79484.800000</td>\n",
       "      <td>269.960000</td>\n",
       "      <td>1.000000</td>\n",
       "      <td>1.00000</td>\n",
       "    </tr>\n",
       "  </tbody>\n",
       "</table>\n",
       "</div>"
      ],
      "text/plain": [
       "       Daily Time Spent on Site          Age   Area Income  \\\n",
       "count               1000.000000  1000.000000   1000.000000   \n",
       "mean                  65.000200    36.009000  55000.000080   \n",
       "std                   15.853615     8.785562  13414.634022   \n",
       "min                   32.600000    19.000000  13996.500000   \n",
       "25%                   51.360000    29.000000  47031.802500   \n",
       "50%                   68.215000    35.000000  57012.300000   \n",
       "75%                   78.547500    42.000000  65470.635000   \n",
       "max                   91.430000    61.000000  79484.800000   \n",
       "\n",
       "       Daily Internet Usage         Male  Clicked on Ad  \n",
       "count           1000.000000  1000.000000     1000.00000  \n",
       "mean             180.000100     0.481000        0.50000  \n",
       "std               43.902339     0.499889        0.50025  \n",
       "min              104.780000     0.000000        0.00000  \n",
       "25%              138.830000     0.000000        0.00000  \n",
       "50%              183.130000     0.000000        0.50000  \n",
       "75%              218.792500     1.000000        1.00000  \n",
       "max              269.960000     1.000000        1.00000  "
      ]
     },
     "execution_count": 6,
     "metadata": {},
     "output_type": "execute_result"
    }
   ],
   "source": [
    "df.describe() # Get statistical info about numerical values"
   ]
  },
  {
   "cell_type": "code",
   "execution_count": 7,
   "metadata": {},
   "outputs": [
    {
     "data": {
      "text/plain": [
       "Index(['Daily Time Spent on Site', 'Age', 'Area Income',\n",
       "       'Daily Internet Usage', 'Ad Topic Line', 'City', 'Male', 'Country',\n",
       "       'Timestamp', 'Clicked on Ad'],\n",
       "      dtype='object')"
      ]
     },
     "execution_count": 7,
     "metadata": {},
     "output_type": "execute_result"
    }
   ],
   "source": [
    "df.columns"
   ]
  },
  {
   "cell_type": "code",
   "execution_count": null,
   "metadata": {},
   "outputs": [],
   "source": [
    "df.rename(columns={\"Daily Time Spent on Site\": \"daily_time_spent_on_site\",\n",
    "                   \"Age\":\"age\",\n",
    "                   \"Area Income\":\"area_income\",\n",
    "                   \"Daily Internet Usage\":\"daily_internet_usage\",\n",
    "                   \"Ad Topic Line\":\"ad_topic_line\",\n",
    "                   \"City\":\"city\",\n",
    "                   \"Male\":\"male\",\n",
    "                   \"Country\":\"country\",\n",
    "                   \"Timestamp\":'timestamp',\n",
    "                   \"Clicked on Ad\":\"clicked_on_ad\"}, inplace=True)"
   ]
  },
  {
   "attachments": {},
   "cell_type": "markdown",
   "metadata": {},
   "source": [
    "## Logistic Regression Model"
   ]
  },
  {
   "attachments": {},
   "cell_type": "markdown",
   "metadata": {},
   "source": [
    "### Train Model"
   ]
  },
  {
   "attachments": {},
   "cell_type": "markdown",
   "metadata": {},
   "source": [
    "### Test Model"
   ]
  },
  {
   "attachments": {},
   "cell_type": "markdown",
   "metadata": {},
   "source": [
    "### Accuracy Metric"
   ]
  },
  {
   "attachments": {},
   "cell_type": "markdown",
   "metadata": {},
   "source": [
    "## Model Evaluation"
   ]
  },
  {
   "attachments": {},
   "cell_type": "markdown",
   "metadata": {},
   "source": [
    "### Confusion Matrix"
   ]
  },
  {
   "attachments": {},
   "cell_type": "markdown",
   "metadata": {},
   "source": [
    "## Conclusion"
   ]
  }
 ],
 "metadata": {
  "kernelspec": {
   "display_name": "base",
   "language": "python",
   "name": "python3"
  },
  "language_info": {
   "codemirror_mode": {
    "name": "ipython",
    "version": 3
   },
   "file_extension": ".py",
   "mimetype": "text/x-python",
   "name": "python",
   "nbconvert_exporter": "python",
   "pygments_lexer": "ipython3",
   "version": "3.9.13"
  },
  "orig_nbformat": 4,
  "vscode": {
   "interpreter": {
    "hash": "2af95526483980d5c0d32e69cfdef7fb59df03ab74b43ac7da13aa2ecc7f8f71"
   }
  }
 },
 "nbformat": 4,
 "nbformat_minor": 2
}
